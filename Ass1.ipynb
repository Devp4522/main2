{
  "cells": [
    {
      "cell_type": "markdown",
      "metadata": {
        "id": "view-in-github",
        "colab_type": "text"
      },
      "source": [
        "<a href=\"https://colab.research.google.com/github/Devp4522/main2/blob/main/Ass1.ipynb\" target=\"_parent\"><img src=\"https://colab.research.google.com/assets/colab-badge.svg\" alt=\"Open In Colab\"/></a>"
      ]
    },
    {
      "cell_type": "markdown",
      "metadata": {
        "id": "nMVAoeD5K82J"
      },
      "source": [
        "## **ASSIGNMENT-1**"
      ]
    },
    {
      "cell_type": "markdown",
      "metadata": {
        "id": "BsiBabn0K82N"
      },
      "source": [
        "**Importing Libraries**"
      ]
    },
    {
      "cell_type": "code",
      "execution_count": null,
      "metadata": {
        "id": "nut9WwjhK82O"
      },
      "outputs": [],
      "source": [
        "# Importing required libraries\n",
        "import pandas as pd\n",
        "import matplotlib.pyplot as plt\n",
        "import numpy as np\n",
        "from datetime import date\n",
        "import warnings\n",
        "import yfinance as yf\n",
        "\n",
        "# Suppress warnings\n",
        "warnings.filterwarnings(\"ignore\")"
      ]
    },
    {
      "cell_type": "markdown",
      "metadata": {
        "id": "3bJ574LSK82P"
      },
      "source": [
        "**Importing Options Data**"
      ]
    },
    {
      "cell_type": "code",
      "execution_count": null,
      "metadata": {
        "id": "B3wxJGL0K82Q"
      },
      "outputs": [],
      "source": [
        "symbol = \"^SPX\"\n",
        "dfo = yf.Ticker(symbol)\n",
        "\n",
        "# Get current price using historical data (more reliable than info)\n",
        "current_price = dfo.history(period='1d')['Close'].iloc[-1]\n",
        "\n",
        "# Select the next recent expiration date\n",
        "expiration_date = dfo.options[1]\n",
        "option_chain = dfo.option_chain(expiration_date)\n",
        "\n",
        "# Extract Calls and Puts Data\n",
        "calls = option_chain.calls\n",
        "puts = option_chain.puts"
      ]
    },
    {
      "cell_type": "markdown",
      "metadata": {
        "id": "AOqIXXLiK82Q"
      },
      "source": [
        "**Call Option Data**"
      ]
    },
    {
      "cell_type": "code",
      "execution_count": null,
      "metadata": {
        "id": "qOinzOWeK82Q"
      },
      "outputs": [],
      "source": [
        "calls"
      ]
    },
    {
      "cell_type": "markdown",
      "metadata": {
        "id": "V7hVdejdK82R"
      },
      "source": [
        "**Put Option Data**"
      ]
    },
    {
      "cell_type": "code",
      "execution_count": null,
      "metadata": {
        "id": "bAp68u4oK82R"
      },
      "outputs": [],
      "source": [
        "puts"
      ]
    },
    {
      "cell_type": "markdown",
      "metadata": {
        "id": "53h162RHK82S"
      },
      "source": [
        "## **Payoff Calculation**"
      ]
    },
    {
      "cell_type": "markdown",
      "metadata": {
        "id": "irZxkE_HK82S"
      },
      "source": [
        " **Call option**\n",
        "\n",
        "payoff=max(-C, S - X - C)\n"
      ]
    },
    {
      "cell_type": "markdown",
      "metadata": {
        "id": "qPva08q9K82T"
      },
      "source": [
        " **Put option**\n",
        "\n",
        "payoff=max(-P, X - S - P)\n"
      ]
    },
    {
      "cell_type": "markdown",
      "metadata": {
        "id": "djxci6SGK82T"
      },
      "source": [
        "where,\n",
        "\n",
        "P and C are premiums of calls and puts\n",
        "\n",
        "S is the stock price\n",
        "\n",
        "X is the strike price"
      ]
    },
    {
      "cell_type": "code",
      "execution_count": null,
      "metadata": {
        "id": "ifZw64bDK82T"
      },
      "outputs": [],
      "source": [
        "def payoff(option_type, premium, S, X):\n",
        "    \"\"\"\n",
        "    Calculate the payoff for an option position\n",
        "\n",
        "    Parameters:\n",
        "    option_type (str): 'C' for Call, 'P' for Put\n",
        "    premium (float): Option premium\n",
        "    S (array): Array of possible stock prices\n",
        "    X (float): Strike price\n",
        "    \"\"\"\n",
        "    payoff_value = 0\n",
        "    if option_type == 'C':  # Call Option\n",
        "        payoff_value = #YOUR CODE HERE\n",
        "    elif option_type == 'P':  # Put Option\n",
        "        payoff_value = #YOUR CODE HERE\n",
        "    else:\n",
        "        raise ValueError(\"Option type not supported\")\n",
        "    return payoff_value\n"
      ]
    },
    {
      "cell_type": "markdown",
      "metadata": {
        "id": "X9Ln_O5KK82T"
      },
      "source": [
        "**Checking the output of payoff function**"
      ]
    },
    {
      "cell_type": "code",
      "execution_count": null,
      "metadata": {
        "id": "9lwZKAsxK82U"
      },
      "outputs": [],
      "source": [
        "payoff('C', 10, 120,100)  #answer displayed should be 10"
      ]
    },
    {
      "cell_type": "code",
      "execution_count": null,
      "metadata": {
        "id": "yS1do-EWK82U"
      },
      "outputs": [],
      "source": [
        "payoff('Z', 10, 120, 100)  #answer displayed should be option type not supported"
      ]
    },
    {
      "cell_type": "code",
      "execution_count": null,
      "metadata": {
        "id": "OiLLRr-zK82U"
      },
      "outputs": [],
      "source": [
        "payoff('P', 10, 120, 100)  #answer displayed should be -10"
      ]
    },
    {
      "cell_type": "markdown",
      "metadata": {
        "id": "BCDug4IwK82U"
      },
      "source": [
        "**Plot for Call Option**"
      ]
    },
    {
      "cell_type": "code",
      "execution_count": null,
      "metadata": {
        "id": "T6LUpA1XK82U"
      },
      "outputs": [],
      "source": [
        "# Call Option Plot\n",
        "X_call = calls['strike'].iloc[0]  # Using first strike price\n",
        "premium_call = calls['lastPrice'].iloc[0]\n",
        "\n",
        "# Create stock price range based on current price\n",
        "price_range = 0.5  # 50% above and below current price\n",
        "StockPrice = np.linspace(current_price * (1 - price_range),\n",
        "                        current_price * (1 + price_range),\n",
        "                        1000)\n",
        "\n",
        "# Calculate payoff (vectorized)\n",
        "Payoff_Call = payoff('C', premium_call, StockPrice, X_call)\n",
        "\n",
        "# Plot the call option payoff\n",
        "plt.figure(figsize=(10, 6))\n",
        "plt.plot(StockPrice, Payoff_Call, label='Call Option Payoff')\n",
        "plt.axhline(y=0, color='black', linestyle='--', linewidth=0.7)\n",
        "plt.axvline(x=X_call + premium_call, color='red', linestyle='--', label='Breakeven Point')\n",
        "plt.xlabel('Stock Price')\n",
        "plt.ylabel('Payoff ($)')\n",
        "plt.title(f'Call Option Payoff at Expiry (Strike: ${X_call:,.2f})')\n",
        "plt.legend()\n",
        "plt.grid(True)\n",
        "plt.show()"
      ]
    },
    {
      "cell_type": "markdown",
      "metadata": {
        "id": "A1HMFhtAK82V"
      },
      "source": [
        "**Plot for Put Option**"
      ]
    },
    {
      "cell_type": "code",
      "execution_count": null,
      "metadata": {
        "id": "qh1xFeM4K82V"
      },
      "outputs": [],
      "source": [
        "# Put Option Plot\n",
        "X_put = puts['strike'].iloc[-1]  # Using last strike price\n",
        "premium_put = puts['lastPrice'].iloc[-1]\n",
        "\n",
        "#YOUR CODE HERE FOR THE PLOT OF THE PUT OPTION"
      ]
    },
    {
      "cell_type": "markdown",
      "metadata": {
        "id": "Wsa_xPueK82V"
      },
      "source": [
        "**Checking for ITM,OTM,ATM**"
      ]
    },
    {
      "cell_type": "code",
      "execution_count": null,
      "metadata": {
        "id": "Jhn8MpUIK82V"
      },
      "outputs": [],
      "source": [
        "# Option Classification function\n",
        "def classify_option(S, X):\n",
        "    \"\"\"\n",
        "    Classify option as ITM, ATM, or OTM based on current stock price(S) and strike price(X)\n",
        "    \"\"\"\n",
        "    if #YOUR CODE HERE:\n",
        "        return \"In the Money (ITM)\"\n",
        "    elif #YOUR CODE HERE:\n",
        "        return \"At the Money (ATM)\"\n",
        "    else:\n",
        "        return \"Out of the Money (OTM)\"\n"
      ]
    },
    {
      "cell_type": "code",
      "execution_count": null,
      "metadata": {
        "id": "nOcRclNdK82V"
      },
      "outputs": [],
      "source": [
        "# Example classification\n",
        "classification_call = classify_option(current_price, X_call)\n",
        "classification_put = classify_option(current_price, X_put)\n",
        "print(f\"\\nCall Option Classification: {classification_call}\")\n",
        "print(f\"Put Option Classification: {classification_put}\")"
      ]
    },
    {
      "cell_type": "markdown",
      "metadata": {
        "id": "mIQt6MddK82X"
      },
      "source": [
        "**Put Call Parity Validation**"
      ]
    },
    {
      "cell_type": "code",
      "execution_count": null,
      "metadata": {
        "id": "RyCaQDsBK82X"
      },
      "outputs": [],
      "source": [
        "# Put-Call Parity Validation\n",
        "def validate_put_call_parity(S, X, premium_call, premium_put, r=0.05, T=1):\n",
        "    \"\"\"\n",
        "    Validate Put-Call Parity relationship\n",
        "\n",
        "    Parameters:\n",
        "    S: Current stock price\n",
        "    X: Strike price\n",
        "    premium_call: Call option premium\n",
        "    premium_put: Put option premium\n",
        "    r: Risk-free interest rate (default 5%)\n",
        "    T: Time to maturity in years (default 1 year)\n",
        "    \"\"\"\n",
        "    left_hand_side = #YOUR CODE HERE\n",
        "    right_hand_side = #YOUR CODE HERE\n",
        "    return np.isclose(left_hand_side, right_hand_side, rtol=1e-2)\n"
      ]
    },
    {
      "cell_type": "markdown",
      "metadata": {
        "id": "I9sdN3_tK82X"
      },
      "source": [
        "**Check put-call parity**"
      ]
    },
    {
      "cell_type": "code",
      "execution_count": null,
      "metadata": {
        "id": "zxgp_feuK82X"
      },
      "outputs": [],
      "source": [
        "# Check put-call parity\n",
        "is_parity_valid = validate_put_call_parity(current_price, X_call, premium_call, premium_put)\n",
        "print(f\"\\nDoes Put-Call Parity Hold? {is_parity_valid}\")"
      ]
    }
  ],
  "metadata": {
    "kernelspec": {
      "display_name": "Python 3",
      "language": "python",
      "name": "python3"
    },
    "language_info": {
      "codemirror_mode": {
        "name": "ipython",
        "version": 3
      },
      "file_extension": ".py",
      "mimetype": "text/x-python",
      "name": "python",
      "nbconvert_exporter": "python",
      "pygments_lexer": "ipython3",
      "version": "3.12.4"
    },
    "colab": {
      "provenance": [],
      "include_colab_link": true
    }
  },
  "nbformat": 4,
  "nbformat_minor": 0
}